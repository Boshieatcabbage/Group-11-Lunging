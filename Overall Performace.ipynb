{
 "cells": [
  {
   "cell_type": "markdown",
   "metadata": {},
   "source": [
    "# Overall Performance of Detecting, Transitioning and Aggression Lunging Simulation"
   ]
  },
  {
   "cell_type": "code",
   "execution_count": 1,
   "metadata": {},
   "outputs": [],
   "source": [
    "import cv2\n",
    "import numpy as np\n",
    "from tqdm import trange\n",
    "from flygym import Simulation, Camera\n",
    "from flygym.arena import FlatTerrain"
   ]
  },
  {
   "cell_type": "markdown",
   "metadata": {},
   "source": [
    "### For the different role of the flies, Class `LungingFly` and Class `WalkingFly` has been created "
   ]
  },
  {
   "cell_type": "code",
   "execution_count": 2,
   "metadata": {},
   "outputs": [],
   "source": [
    "from flies import LungingFly, WalkingFly"
   ]
  },
  {
   "cell_type": "markdown",
   "metadata": {},
   "source": [
    "### First, remove parts of the fly's body that are in its field of vision"
   ]
  },
  {
   "cell_type": "code",
   "execution_count": null,
   "metadata": {},
   "outputs": [],
   "source": [
    "# Remove parts of the fly's body that are in its field of vision\n",
    "WalkingFly.config[\"vision\"][\"hidden_segments\"] += [\n",
    "    \"LFFemur\",\n",
    "    \"LFTibia\",\n",
    "    \"LFTarsus1\",\n",
    "    \"LFTarsus2\",\n",
    "    \"LFTarsus3\",\n",
    "    \"LFTarsus4\",\n",
    "    \"LFTarsus5\",\n",
    "    \"RFFemur\",\n",
    "    \"RFTibia\",\n",
    "    \"RFTarsus1\",\n",
    "    \"RFTarsus2\",\n",
    "    \"RFTarsus3\",\n",
    "    \"RFTarsus4\",\n",
    "    \"RFTarsus5\",\n",
    "    \"LMFemur\",\n",
    "    \"LMTibia\",\n",
    "    \"LMTarsus1\",\n",
    "    \"LMTarsus2\",\n",
    "    \"LMTarsus3\",\n",
    "    \"LMTarsus4\",\n",
    "    \"LMTarsus5\",\n",
    "    \"RMFemur\",\n",
    "    \"RMTibia\",\n",
    "    \"RMTarsus1\",\n",
    "    \"RMTarsus2\",\n",
    "    \"RMTarsus3\",\n",
    "    \"RMTarsus4\",\n",
    "    \"RMTarsus5\",\n",
    "]"
   ]
  },
  {
   "cell_type": "markdown",
   "metadata": {},
   "source": [
    "### Manually add desired collison pairs using the function. It can be freely adjusted:"
   ]
  },
  {
   "cell_type": "code",
   "execution_count": 9,
   "metadata": {},
   "outputs": [],
   "source": [
    "def add_collision_pair(fly1, fly2, geom_name1, geom_name2):\n",
    "    geom1 = fly1.model.find(\"geom\", geom_name1)\n",
    "    geom2 = fly2.model.find(\"geom\", geom_name2)\n",
    "    fly1.model.contact.add(\n",
    "        \"pair\",\n",
    "        name=f\"{geom_name1}_{geom_name2}\",\n",
    "        geom1=geom1,\n",
    "        geom2=geom2,\n",
    "        solref=fly1.contact_solref,\n",
    "        solimp=fly1.contact_solimp,\n",
    "    )\n",
    "\n",
    "def add_all_collision_pairs(fly1, fly2):\n",
    "    add_collision_pair(fly1, fly2, \"Head\",\"Thorax\")\n",
    "    add_collision_pair(fly1, fly2, \"LFTarsus5\",\"Head\")\n",
    "    add_collision_pair(fly1, fly2, \"RFTarsus5\",\"Head\")\n",
    "    add_collision_pair(fly1, fly2, \"LFTarsus5\",\"Thorax\")\n",
    "    add_collision_pair(fly1, fly2, \"RFTarsus5\",\"Thorax\")\n",
    "    add_collision_pair(fly1, fly2, \"LFTarsus5\",\"A1A2\")\n",
    "    add_collision_pair(fly1, fly2, \"RFTarsus5\",\"A1A2\")\n",
    "    add_collision_pair(fly1, fly2, \"LFTarsus5\",\"RWing\")\n",
    "    add_collision_pair(fly1, fly2, \"RFTarsus5\",\"RWing\")\n",
    "    add_collision_pair(fly1, fly2, \"LFTarsus5\",\"LWing\")\n",
    "    add_collision_pair(fly1, fly2, \"RFTarsus5\",\"LWing\")\n"
   ]
  },
  {
   "cell_type": "markdown",
   "metadata": {},
   "source": [
    "### To start, set up the time scale and initialize `the flies`, `the arena` and `the camera`\n"
   ]
  },
  {
   "cell_type": "code",
   "execution_count": 5,
   "metadata": {},
   "outputs": [],
   "source": [
    "# set the running time\n",
    "timestep = 1e-4\n",
    "run_time = 0.5\n",
    "t = np.arange(0, run_time, timestep)\n",
    "average_pixels = []\n",
    "# Initialize the 2 flies\n",
    "lunging_fly = LungingFly(\n",
    "    name=\"lunging\",\n",
    "    timestep=timestep,\n",
    "    enable_adhesion=True,\n",
    "    head_stabilization_model=\"thorax\",\n",
    "    neck_kp=1000,\n",
    "    actuator_kp=30,    # Play with the actuator_kp to get different results！\n",
    "    adhesion_force=40,\n",
    ")\n",
    "\n",
    "walking_fly = WalkingFly(\n",
    "    name=\"walking\",\n",
    "    timestep=timestep,\n",
    "    enable_adhesion=True,\n",
    "    spawn_pos=(7, 3.55, 0.5),   # Play with the spawn_pos to get different results！\n",
    "    spawn_orientation=(0, 0, 2*np.pi),\n",
    ")\n",
    "\n",
    "add_all_collision_pairs(lunging_fly, walking_fly)   # Enabling the collision\n",
    "\n",
    "arena = FlatTerrain(ground_alpha=0) # Remove the background color \n",
    "\n",
    "#Multi-camera Simulation\n",
    "birdeye_cam_zoom = arena.root_element.worldbody.add(\n",
    "    \"camera\",\n",
    "    name=\"birdeye_cam_zoom\",\n",
    "    mode=\"fixed\",\n",
    "    pos=(15, 0, 20),\n",
    "    euler=(0, 0, 0),\n",
    "    fovy=45,\n",
    ")\n",
    "\n",
    "birdeye_cam = arena.root_element.worldbody.add(\n",
    "    \"camera\",\n",
    "    name=\"birdeye_cam\",\n",
    "    mode=\"fixed\",\n",
    "    pos=(15, 0, 35),\n",
    "    euler=(0, 0, 0),\n",
    "    fovy=45,\n",
    ")\n",
    "\n",
    "cam = Camera(\n",
    "    fly=lunging_fly,\n",
    "    camera_id=\"Animat/camera_left\", #Play with the camera_id (such as \"Animat/camera_top\") to get different results！\n",
    "    play_speed=0.2,\n",
    "    window_size=(800, 608),\n",
    ")\n",
    "\n",
    "sim = Simulation(\n",
    "    flies=[lunging_fly, walking_fly],\n",
    "    cameras=[cam],\n",
    "    arena=arena,\n",
    "    timestep=timestep,\n",
    ")"
   ]
  },
  {
   "cell_type": "code",
   "execution_count": 6,
   "metadata": {},
   "outputs": [],
   "source": [
    "obs, info = sim.reset(seed=0)\n",
    "obs[\"lunging\"], info_luning = obs[\"lunging\"], info[\"lunging\"]\n",
    "second_cam_frames = []\n",
    "x = None\n",
    "alpha = 1e-1  #play with alpha calue to get different chasing results"
   ]
  },
  {
   "cell_type": "code",
   "execution_count": 7,
   "metadata": {},
   "outputs": [
    {
     "name": "stderr",
     "output_type": "stream",
     "text": [
      "  0%|          | 21/5000 [00:00<00:43, 113.60it/s]"
     ]
    },
    {
     "name": "stdout",
     "output_type": "stream",
     "text": [
      "[0.49755263 0.49998498]\n",
      "left:False,right:False\n",
      "0.0\n",
      "0.0\n"
     ]
    },
    {
     "name": "stderr",
     "output_type": "stream",
     "text": [
      " 10%|█         | 509/5000 [00:05<00:53, 83.61it/s] "
     ]
    },
    {
     "name": "stdout",
     "output_type": "stream",
     "text": [
      "[0.49744034 0.49991086]\n",
      "left:False,right:False\n",
      "0.0\n",
      "0.0\n"
     ]
    },
    {
     "name": "stderr",
     "output_type": "stream",
     "text": [
      " 20%|██        | 1009/5000 [00:11<00:48, 81.71it/s]"
     ]
    },
    {
     "name": "stdout",
     "output_type": "stream",
     "text": [
      "[0.49724194 0.49989948]\n",
      "left:False,right:False\n",
      "0.0\n",
      "0.0\n"
     ]
    },
    {
     "name": "stderr",
     "output_type": "stream",
     "text": [
      " 30%|███       | 1517/5000 [00:18<00:41, 84.90it/s]"
     ]
    },
    {
     "name": "stdout",
     "output_type": "stream",
     "text": [
      "[0.49648416 0.49991542]\n",
      "left:False,right:False\n",
      "0.0\n",
      "0.0\n"
     ]
    },
    {
     "name": "stderr",
     "output_type": "stream",
     "text": [
      " 40%|████      | 2014/5000 [00:24<00:36, 81.46it/s]"
     ]
    },
    {
     "name": "stdout",
     "output_type": "stream",
     "text": [
      "[0.49641567 0.49993017]\n",
      "left:False,right:False\n",
      "0.0\n",
      "0.0\n"
     ]
    },
    {
     "name": "stderr",
     "output_type": "stream",
     "text": [
      " 50%|█████     | 2515/5000 [00:31<00:32, 76.41it/s]"
     ]
    },
    {
     "name": "stdout",
     "output_type": "stream",
     "text": [
      "[0.49503794 0.49992147]\n",
      "left:False,right:False\n",
      "0.0013869626\n",
      "0.0\n"
     ]
    },
    {
     "name": "stderr",
     "output_type": "stream",
     "text": [
      " 60%|██████    | 3008/5000 [00:38<00:28, 68.93it/s]"
     ]
    },
    {
     "name": "stdout",
     "output_type": "stream",
     "text": [
      "[0.4938716  0.49995032]\n",
      "left:False,right:False\n",
      "0.0013869626\n",
      "0.0\n"
     ]
    },
    {
     "name": "stderr",
     "output_type": "stream",
     "text": [
      " 70%|███████   | 3508/5000 [00:45<00:23, 63.54it/s]"
     ]
    },
    {
     "name": "stdout",
     "output_type": "stream",
     "text": [
      "[0.49295098 0.49994975]\n",
      "left:False,right:False\n",
      "0.0013869626\n",
      "0.0\n"
     ]
    },
    {
     "name": "stderr",
     "output_type": "stream",
     "text": [
      " 80%|████████  | 4005/5000 [00:52<00:15, 64.17it/s]"
     ]
    },
    {
     "name": "stdout",
     "output_type": "stream",
     "text": [
      "[0.48710668 0.49985585]\n",
      "left:False,right:False\n",
      "0.0027739252\n",
      "0.0\n"
     ]
    },
    {
     "name": "stderr",
     "output_type": "stream",
     "text": [
      " 90%|█████████ | 4508/5000 [01:00<00:07, 63.26it/s]"
     ]
    },
    {
     "name": "stdout",
     "output_type": "stream",
     "text": [
      "[0.48549497 0.49988002]\n",
      "left:False,right:False\n",
      "0.008321775\n",
      "0.0\n"
     ]
    },
    {
     "name": "stderr",
     "output_type": "stream",
     "text": [
      " 90%|█████████ | 4520/5000 [01:00<00:06, 74.74it/s]\n"
     ]
    },
    {
     "name": "stdout",
     "output_type": "stream",
     "text": [
      "Dectected!\n"
     ]
    }
   ],
   "source": [
    "stopping_steps = 0 #Time to make the lunging fly to reset its move  \n",
    "\n",
    "# Warning:Since the action of np.zero() is Not the ready-to-lunge action,the stopping_step has been set to 0.\n",
    "# The transition action has been moved to the flies.py, in the datablock of the joint angles of lunging action.\n",
    "\n",
    "for i in trange(t):\n",
    "    visual_features  = lunging_fly.process_visual_observation(obs[\"lunging\"][\"vision\"])\n",
    "    averages = lunging_fly.average_pixels(obs[\"lunging\"][\"vision\"])\n",
    "\n",
    "    left_deviation = 1 - visual_features[1]\n",
    "    right_deviation = visual_features[4]\n",
    "\n",
    "    left_found = visual_features[2] > 0.001\n",
    "    right_found = visual_features[5] > 0.001  #play with the value to set different threshold！\n",
    " \n",
    "    left_detected = averages[0] < 0.485\n",
    "    right_detected = averages[1] < 0.485  #play with the value to set different threshold!\n",
    "    \n",
    "    if i % 500 == 0:   #every 0.05s, print the average visual input feature to keep track of the fly\n",
    "        print(averages)\n",
    "        print(f\"left:{left_detected},right:{right_detected}\" )\n",
    "        print(visual_features[2])\n",
    "        print(visual_features[5])\n",
    "        average_pixels.append(averages)\n",
    "    if left_detected + right_detected == 0:\n",
    "        lunging_fly.detected = False\n",
    "        if not left_found:\n",
    "            left_deviation = np.nan\n",
    "\n",
    "        if not right_found:\n",
    "            right_deviation = np.nan\n",
    "\n",
    "        lunging_action_chasing = np.array(\n",
    "            [\n",
    "                lunging_fly.calc_ipsilateral_speed(left_deviation, left_found),\n",
    "                lunging_fly.calc_ipsilateral_speed(right_deviation, right_found),\n",
    "                0,\n",
    "            ]\n",
    "        )\n",
    "\n",
    "        obs, reward, terminated, truncated, info = sim.step({\n",
    "            \"lunging\": lunging_action_chasing ,\n",
    "            \"walking\": 0.6*np.ones(2),     #Play with the walking fly's walking speed to get different detecting results\n",
    "        })\n",
    "\n",
    "        render_res = sim.render()[0]\n",
    "\n",
    "        if render_res is not None:\n",
    "            lunging_fly.visual_inputs_hist.append(obs[\"lunging\"][\"vision\"].copy())\n",
    "            second_cam = sim.physics.bind(birdeye_cam_zoom)\n",
    "            x_new = sim._get_center_of_mass()[0]\n",
    "\n",
    "            if x is None:\n",
    "                x = x_new\n",
    "\n",
    "            x = (1 - alpha) * x + alpha * x_new\n",
    "\n",
    "            second_cam.pos[0] = x\n",
    "            second_img = sim.physics.render(\n",
    "                width=700, height=560, camera_id=\"birdeye_cam_zoom\"\n",
    "            )\n",
    "            second_img = cv2.putText(\n",
    "                np.ascontiguousarray(second_img),\n",
    "                f\"{sim.cameras[0].play_speed}x\",\n",
    "                org=(20, 30),\n",
    "                fontFace=cv2.FONT_HERSHEY_DUPLEX,\n",
    "                fontScale=0.8,\n",
    "                color=(0, 0, 0),\n",
    "                lineType=cv2.LINE_AA, \n",
    "                thickness=1,\n",
    "            )\n",
    "            second_cam_frames.append(second_img)\n",
    "    else:\n",
    "        break\n",
    "print(\"Dectected!\")\n",
    "for i in range(stopping_steps + lunging_fly.data.shape[1]):\n",
    "    if i < stopping_steps:\n",
    "        lunging_action = np.zeros(3)\n",
    "    else:\n",
    "        lunging_action = np.array([0, 0, 1])    #start lunging!\n",
    "    obs, reward, terminated, truncated, info = sim.step({\n",
    "        \"lunging\": lunging_action,\n",
    "        \"walking\": 0.6*np.ones(2),  #play with the walking fly's walking speed to get different detecting results!\n",
    "    })\n",
    "\n",
    "    render_res = sim.render()[0]\n",
    "\n",
    "    if render_res is not None:\n",
    "        lunging_fly.visual_inputs_hist.append(obs[\"lunging\"][\"vision\"].copy()) # Keep track of the lunging fly's visual input to make a video\n"
   ]
  },
  {
   "cell_type": "markdown",
   "metadata": {},
   "source": [
    "### Plot the average weighted pixel value over time"
   ]
  },
  {
   "cell_type": "code",
   "execution_count": null,
   "metadata": {},
   "outputs": [],
   "source": [
    "import matplotlib.pyplot as plt\n",
    "x = list(range(len(lunging_fly.visual_inputs_hist)))\n",
    "y1 = [point[0] for point in average_pixels]  \n",
    "y2 = [point[1] for point in average_pixels]  \n",
    "plt.plot( x,y1, label='average_pixels_left')\n",
    "plt.plot( x,y2, label='average_pixels_right')\n",
    "plt.title('Average Pixels Values Over Time')\n",
    "plt.xlabel('t/0.01s')\n",
    "plt.ylabel('Average Pixels Values')\n",
    "plt.legend()\n",
    "plt.show()"
   ]
  },
  {
   "cell_type": "markdown",
   "metadata": {},
   "source": [
    "### Render the video\n"
   ]
  },
  {
   "cell_type": "code",
   "execution_count": 8,
   "metadata": {},
   "outputs": [
    {
     "name": "stderr",
     "output_type": "stream",
     "text": [
      "WARNING:imageio_ffmpeg:IMAGEIO FFMPEG_WRITER WARNING: input image is not divisible by macro_block_size=16, resizing from (800, 763) to (800, 768) to ensure video compatibility with most codecs and players. To prevent resizing, make your input image divisible by the macro_block_size or set the macro_block_size to 1 (risking incompatibility).\n"
     ]
    }
   ],
   "source": [
    "from flygym.vision import save_video_with_vision_insets\n",
    "\n",
    "sim.fly = lunging_fly\n",
    "\n",
    "save_video_with_vision_insets(\n",
    "    sim,\n",
    "    cam,\n",
    "    \"outputs/lunging.mp4\",\n",
    "    lunging_fly.visual_inputs_hist,\n",
    ")"
   ]
  },
  {
   "cell_type": "markdown",
   "metadata": {},
   "source": [
    "### Play the video"
   ]
  },
  {
   "cell_type": "code",
   "execution_count": 138,
   "metadata": {},
   "outputs": [
    {
     "data": {
      "text/html": [
       "<video src=\"outputs/fly_following_with_retina_images.mp4\" controls  >\n",
       "      Your browser does not support the <code>video</code> element.\n",
       "    </video>"
      ],
      "text/plain": [
       "<IPython.core.display.Video object>"
      ]
     },
     "execution_count": 138,
     "metadata": {},
     "output_type": "execute_result"
    }
   ],
   "source": [
    "from IPython.display import Video\n",
    "\n",
    "Video(\"outputs/lunging.mp4\")"
   ]
  }
 ],
 "metadata": {
  "kernelspec": {
   "display_name": "flygym",
   "language": "python",
   "name": "python3"
  },
  "language_info": {
   "codemirror_mode": {
    "name": "ipython",
    "version": 3
   },
   "file_extension": ".py",
   "mimetype": "text/x-python",
   "name": "python",
   "nbconvert_exporter": "python",
   "pygments_lexer": "ipython3",
   "version": "3.11.9"
  }
 },
 "nbformat": 4,
 "nbformat_minor": 2
}
